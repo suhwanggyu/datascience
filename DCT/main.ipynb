{
 "metadata": {
  "language_info": {
   "codemirror_mode": {
    "name": "ipython",
    "version": 3
   },
   "file_extension": ".py",
   "mimetype": "text/x-python",
   "name": "python",
   "nbconvert_exporter": "python",
   "pygments_lexer": "ipython3",
   "version": "3.8.3-final"
  },
  "orig_nbformat": 2,
  "kernelspec": {
   "name": "Python 3.8.3 32-bit",
   "display_name": "Python 3.8.3 32-bit",
   "metadata": {
    "interpreter": {
     "hash": "2c2c6f657e3ed8bb0664cf03019141ab6d3820d0554caf0fb892091e24db61cf"
    }
   }
  }
 },
 "nbformat": 4,
 "nbformat_minor": 2,
 "cells": [
  {
   "cell_type": "code",
   "execution_count": 71,
   "metadata": {},
   "outputs": [],
   "source": [
    "import numpy as np\n",
    "from scipy.fftpack import dct, idct\n",
    "import matplotlib.image\n",
    "import matplotlib.pyplot as plt\n",
    "from PIL import Image\n",
    "def readimage(path,width,height,i):\n",
    "        img = Image.open(path)\n",
    "        img_re = img.resize((width,height))\n",
    "        img_re.save(f'testimg{i}.png')\n",
    "        im_matrix = np.array(img_re)\n",
    "        return im_matrix\n",
    "        \n",
    "def dct2(block):\n",
    "    A = dct(dct(block.T, norm='ortho').T, norm='ortho')\n",
    "    num = np.abs(A.flatten())\n",
    "    num.sort()\n",
    "    np.place(A, abs(A) < num[-16], 0)\n",
    "    return A\n",
    "\n",
    "def idct2(block):\n",
    "    return idct(idct(block.T, norm='ortho').T, norm='ortho')\n",
    "\n",
    "p = 6\n",
    "testimg = []\n",
    "for i in range (p,p+1) :\n",
    "    if i == 1 :\n",
    "        testimg.append(readimage(f'test/test{i}.jpeg',160,320,i))\n",
    "    if i == 6 :\n",
    "        testimg.append(readimage(f'test/test{i}.jpeg',320,240,i))\n",
    "    else :\n",
    "        testimg.append(readimage(f'test/test{i}.jpeg',240,240,i))"
   ]
  },
  {
   "cell_type": "code",
   "execution_count": 72,
   "metadata": {},
   "outputs": [],
   "source": [
    "\n",
    "block = []\n",
    "for element in testimg :\n",
    "    rblock = []\n",
    "    gblock = []\n",
    "    bblock = []\n",
    "    for i in range(0,int(len(element)/16)) :\n",
    "        for j in range(0,int(len(element[0])/16)) :\n",
    "            rblock.append(element[16*i:16*i+16,16*j:16*j+16,0].copy())\n",
    "            gblock.append(element[16*i:16*i+16,16*j:16*j+16,1].copy())\n",
    "            bblock.append(element[16*i:16*i+16,16*j:16*j+16,2].copy())\n",
    "    block.append([rblock, gblock, bblock])"
   ]
  },
  {
   "cell_type": "code",
   "execution_count": 80,
   "metadata": {
    "tags": []
   },
   "outputs": [
    {
     "output_type": "stream",
     "name": "stdout",
     "text": [
      "[[ 1.05643750e+03  1.57096273e+00 -1.92380261e+00  2.62870335e+00\n  -1.33218046e+00  0.00000000e+00  0.00000000e+00  0.00000000e+00\n   0.00000000e+00  0.00000000e+00  0.00000000e+00  0.00000000e+00\n   0.00000000e+00  0.00000000e+00  0.00000000e+00  0.00000000e+00]\n [-5.53127887e+00  0.00000000e+00 -2.88795711e+00  0.00000000e+00\n  -1.13041599e+00  0.00000000e+00  0.00000000e+00  0.00000000e+00\n   0.00000000e+00  0.00000000e+00  0.00000000e+00  0.00000000e+00\n   0.00000000e+00  0.00000000e+00  0.00000000e+00  0.00000000e+00]\n [ 0.00000000e+00  0.00000000e+00 -5.13209219e+00  0.00000000e+00\n   0.00000000e+00  0.00000000e+00  1.53068220e+00  0.00000000e+00\n   0.00000000e+00  0.00000000e+00  0.00000000e+00  0.00000000e+00\n   0.00000000e+00  0.00000000e+00  0.00000000e+00  0.00000000e+00]\n [-1.63996679e+00  0.00000000e+00  0.00000000e+00  0.00000000e+00\n   0.00000000e+00  0.00000000e+00  0.00000000e+00  0.00000000e+00\n   0.00000000e+00  0.00000000e+00  0.00000000e+00  0.00000000e+00\n   0.00000000e+00  0.00000000e+00  0.00000000e+00  0.00000000e+00]\n [ 3.39930259e+00  0.00000000e+00  0.00000000e+00  0.00000000e+00\n   0.00000000e+00  0.00000000e+00  0.00000000e+00  0.00000000e+00\n   0.00000000e+00  0.00000000e+00  0.00000000e+00  0.00000000e+00\n   0.00000000e+00  0.00000000e+00  0.00000000e+00  0.00000000e+00]\n [ 0.00000000e+00 -1.10363955e+00  0.00000000e+00  0.00000000e+00\n   0.00000000e+00  0.00000000e+00  0.00000000e+00  0.00000000e+00\n   0.00000000e+00  0.00000000e+00  0.00000000e+00  0.00000000e+00\n   0.00000000e+00  0.00000000e+00  0.00000000e+00  0.00000000e+00]\n [ 0.00000000e+00  0.00000000e+00  9.97935617e-01  0.00000000e+00\n   0.00000000e+00  0.00000000e+00  0.00000000e+00  0.00000000e+00\n   0.00000000e+00  0.00000000e+00  0.00000000e+00  0.00000000e+00\n   0.00000000e+00  0.00000000e+00  0.00000000e+00  0.00000000e+00]\n [ 0.00000000e+00  0.00000000e+00  8.47855030e-01  0.00000000e+00\n   0.00000000e+00  0.00000000e+00  0.00000000e+00  8.09176521e-01\n   0.00000000e+00  0.00000000e+00  0.00000000e+00  0.00000000e+00\n   0.00000000e+00  0.00000000e+00  0.00000000e+00  0.00000000e+00]\n [ 0.00000000e+00  0.00000000e+00  0.00000000e+00  0.00000000e+00\n   0.00000000e+00  0.00000000e+00  0.00000000e+00  0.00000000e+00\n   0.00000000e+00  0.00000000e+00  0.00000000e+00  0.00000000e+00\n   0.00000000e+00  0.00000000e+00  0.00000000e+00  0.00000000e+00]\n [ 0.00000000e+00  0.00000000e+00  0.00000000e+00  0.00000000e+00\n   0.00000000e+00  0.00000000e+00  0.00000000e+00  0.00000000e+00\n   0.00000000e+00  0.00000000e+00  0.00000000e+00  0.00000000e+00\n   0.00000000e+00  0.00000000e+00  0.00000000e+00  0.00000000e+00]\n [ 0.00000000e+00  0.00000000e+00  0.00000000e+00  0.00000000e+00\n   0.00000000e+00  0.00000000e+00  0.00000000e+00  0.00000000e+00\n   0.00000000e+00  0.00000000e+00  0.00000000e+00  0.00000000e+00\n   0.00000000e+00  0.00000000e+00  0.00000000e+00  0.00000000e+00]\n [ 0.00000000e+00  0.00000000e+00  0.00000000e+00  0.00000000e+00\n   0.00000000e+00  0.00000000e+00  0.00000000e+00  0.00000000e+00\n   0.00000000e+00  0.00000000e+00  0.00000000e+00  0.00000000e+00\n   0.00000000e+00  0.00000000e+00  0.00000000e+00  0.00000000e+00]\n [ 0.00000000e+00  0.00000000e+00  0.00000000e+00  0.00000000e+00\n   0.00000000e+00  0.00000000e+00  0.00000000e+00  0.00000000e+00\n   0.00000000e+00  0.00000000e+00  0.00000000e+00  0.00000000e+00\n   0.00000000e+00  0.00000000e+00  0.00000000e+00  0.00000000e+00]\n [ 0.00000000e+00  0.00000000e+00  0.00000000e+00  0.00000000e+00\n   0.00000000e+00  0.00000000e+00  0.00000000e+00  0.00000000e+00\n   0.00000000e+00  0.00000000e+00  0.00000000e+00  0.00000000e+00\n   0.00000000e+00  0.00000000e+00  0.00000000e+00  0.00000000e+00]\n [ 0.00000000e+00  0.00000000e+00  0.00000000e+00  0.00000000e+00\n   0.00000000e+00  0.00000000e+00  0.00000000e+00  0.00000000e+00\n   0.00000000e+00  0.00000000e+00  0.00000000e+00  0.00000000e+00\n   0.00000000e+00  0.00000000e+00  0.00000000e+00  0.00000000e+00]\n [ 0.00000000e+00  0.00000000e+00  0.00000000e+00  0.00000000e+00\n   0.00000000e+00  0.00000000e+00  0.00000000e+00  0.00000000e+00\n   0.00000000e+00  0.00000000e+00  0.00000000e+00  0.00000000e+00\n   0.00000000e+00  0.00000000e+00  0.00000000e+00  0.00000000e+00]]\n[[33 33 33 33 33 34 34 34 34 34 34 35 37 39 40 39]\n [33 33 33 33 33 34 34 34 34 34 34 35 37 39 40 39]\n [33 33 33 33 33 33 34 34 34 34 35 35 37 39 40 39]\n [33 34 33 33 33 33 34 34 34 35 35 36 38 40 40 40]\n [34 34 33 33 33 33 33 34 35 35 36 37 38 40 41 40]\n [34 34 33 33 33 33 33 34 35 36 36 37 39 41 41 40]\n [34 34 33 33 33 33 33 34 36 36 37 38 39 41 41 41]\n [34 34 33 33 33 32 33 34 36 37 37 38 40 41 41 41]\n [35 34 33 33 33 32 33 34 36 37 38 38 40 41 41 41]\n [35 34 33 33 33 32 32 34 36 37 38 38 40 41 41 41]\n [35 34 33 33 33 32 32 34 36 37 38 38 40 41 41 41]\n [35 34 33 33 33 32 32 34 36 37 37 38 40 41 41 41]\n [35 33 33 33 33 32 32 34 36 37 37 38 40 41 41 41]\n [35 33 33 33 33 32 32 34 36 37 37 38 39 41 41 41]\n [35 33 33 33 33 32 32 34 36 37 37 38 39 40 41 40]\n [35 33 33 33 33 32 32 34 36 37 37 38 39 40 41 40]]\n"
     ]
    }
   ],
   "source": [
    "rresult = []\n",
    "gresult = []\n",
    "bresult = []\n",
    "result = []\n",
    "widthBlockNum = int(len(testimg[0][0])/16)\n",
    "heightBlockNum = int(len(testimg[0])/16)\n",
    "for i in range (0,len(rblock)) :\n",
    "    rblock[i] = idct2(dct2(rblock[i])).astype(int)\n",
    "    gblock[i] = idct2(dct2(gblock[i])).astype(int)\n",
    "    bblock[i] = idct2(dct2(bblock[i])).astype(int)\n",
    "print(dct2(rblock[1]))\n",
    "for i in range(0,heightBlockNum) :\n",
    "    tmp = rblock[widthBlockNum * i]\n",
    "    tmp2 = gblock[widthBlockNum * i]\n",
    "    tmp3 = bblock[widthBlockNum * i]\n",
    "    for j in range(1,widthBlockNum):\n",
    "        tmp = np.hstack((tmp,rblock[widthBlockNum*i + j]))\n",
    "        tmp2 = np.hstack((tmp2,gblock[widthBlockNum*i + j]))\n",
    "        tmp3 = np.hstack((tmp3,bblock[widthBlockNum*i + j]))\n",
    "    if i == 0 :\n",
    "        rfinal = tmp\n",
    "        gfinal = tmp2\n",
    "        bfinal = tmp3\n",
    "    else :\n",
    "        rfinal = np.vstack((rfinal,tmp))\n",
    "        gfinal = np.vstack((gfinal,tmp2))\n",
    "        bfinal = np.vstack((bfinal,tmp3))\n",
    "\n",
    "print(rblock[30])\n",
    "final = []\n",
    "for j in range (0,len(testimg[0])):\n",
    "    for i in range (0,len(testimg[0][0])) :\n",
    "        final.append([rfinal[j][i],gfinal[j][i],bfinal[j][i]])"
   ]
  },
  {
   "cell_type": "code",
   "execution_count": 74,
   "metadata": {
    "tags": []
   },
   "outputs": [],
   "source": [
    "im_m = np.array(final, dtype='uint8')\n",
    "\n",
    "im_reshape = np.reshape(im_m,(len(testimg[0]),len(testimg[0][0]),3))"
   ]
  },
  {
   "cell_type": "code",
   "execution_count": 75,
   "metadata": {},
   "outputs": [],
   "source": [
    "def recover(matrix,i) :\n",
    "    global p\n",
    "    img_recover = Image.fromarray(matrix,\"RGB\")\n",
    "    img_recover.save(f'recoverimg{i}.png')\n",
    "    img_recover.show()"
   ]
  },
  {
   "cell_type": "code",
   "execution_count": 76,
   "metadata": {},
   "outputs": [],
   "source": [
    "recover(im_reshape, p)"
   ]
  },
  {
   "cell_type": "code",
   "execution_count": 77,
   "metadata": {},
   "outputs": [
    {
     "output_type": "stream",
     "name": "stdout",
     "text": [
      "6\n"
     ]
    }
   ],
   "source": [
    "print(p)"
   ]
  },
  {
   "cell_type": "code",
   "execution_count": null,
   "metadata": {},
   "outputs": [],
   "source": []
  }
 ]
}